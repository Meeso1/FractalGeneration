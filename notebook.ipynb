{
 "cells": [
  {
   "cell_type": "code",
   "execution_count": null,
   "id": "cc72ec11",
   "metadata": {},
   "outputs": [],
   "source": [
    "import numpy as np\n",
    "\n",
    "from dragon_curve import dragon_curve_with_angle_fn\n",
    "from plot_curve import plot_curve"
   ]
  },
  {
   "cell_type": "code",
   "execution_count": null,
   "id": "f17ea2a7",
   "metadata": {},
   "outputs": [],
   "source": [
    "from typing import Callable\n",
    "\n",
    "\n",
    "def random_angle(iteration: int) -> Callable[[int], float]:\n",
    "    return np.random.uniform(-0.5, 0.5) + np.pi/2\n",
    "\n",
    "curve = dragon_curve_with_angle_fn(15, random_angle)\n",
    "plot_curve(curve)"
   ]
  }
 ],
 "metadata": {
  "kernelspec": {
   "display_name": ".venv",
   "language": "python",
   "name": "python3"
  },
  "language_info": {
   "codemirror_mode": {
    "name": "ipython",
    "version": 3
   },
   "file_extension": ".py",
   "mimetype": "text/x-python",
   "name": "python",
   "nbconvert_exporter": "python",
   "pygments_lexer": "ipython3",
   "version": "3.12.3"
  }
 },
 "nbformat": 4,
 "nbformat_minor": 5
}
