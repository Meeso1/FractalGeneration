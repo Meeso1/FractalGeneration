{
 "cells": [
  {
   "cell_type": "code",
   "execution_count": null,
   "id": "cc72ec11",
   "metadata": {},
   "outputs": [],
   "source": [
    "from dragon_curve import dragon_curve\n",
    "from plot_curve import plot_curve"
   ]
  },
  {
   "cell_type": "code",
   "execution_count": null,
   "id": "f17ea2a7",
   "metadata": {},
   "outputs": [],
   "source": [
    "curve = dragon_curve(12)\n",
    "plot_curve(curve)"
   ]
  }
 ],
 "metadata": {
  "kernelspec": {
   "display_name": ".venv",
   "language": "python",
   "name": "python3"
  },
  "language_info": {
   "codemirror_mode": {
    "name": "ipython",
    "version": 3
   },
   "file_extension": ".py",
   "mimetype": "text/x-python",
   "name": "python",
   "nbconvert_exporter": "python",
   "pygments_lexer": "ipython3",
   "version": "3.12.3"
  }
 },
 "nbformat": 4,
 "nbformat_minor": 5
}
